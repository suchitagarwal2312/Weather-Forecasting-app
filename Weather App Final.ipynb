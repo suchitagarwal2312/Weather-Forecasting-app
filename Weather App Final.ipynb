{
 "cells": [
  {
   "cell_type": "code",
   "execution_count": 1,
   "metadata": {},
   "outputs": [],
   "source": [
    "import tkinter as tk\n",
    "from PIL import Image,ImageTk\n",
    "import requests\n",
    "def format_response(weather):\n",
    "    try:\n",
    "        name=weather['name']\n",
    "        desc=weather['weather'][0]['description']\n",
    "        temp=weather['main']['temp']\n",
    "\n",
    "        final_str='City:%s \\n Condition : %s\\n Temperature(°f): %s'%(name,desc,temp)\n",
    "    except:\n",
    "        final_str=\"No Record Found\"\n",
    "        \n",
    "    return final_str\n",
    "    \n",
    "def knw_weather(city):\n",
    "    wkey='a074f00383dd7d99ae8514a19e48ba75'\n",
    "    link=\"https://api.openweathermap.org/data/2.5/weather\"\n",
    "    parameters={'APPID':wkey,'q':city,'units':'Imperial'}\n",
    "    response=requests.get(link,params=parameters)\n",
    "    weather=(response.json())\n",
    "    \n",
    "    label['text']=format_response(weather)\n",
    "    \n",
    "\n",
    "root=tk.Tk()\n",
    "root.title(\"Suchit Weather App\")\n",
    "\n",
    "canvas=tk.Canvas(root,height=500,width=600)\n",
    "canvas.pack()\n",
    "\n",
    "img = \"C:\\\\Users\\\\vasu\\\\Desktop\\\\clouds.jpg\"\n",
    "bgs = ImageTk.PhotoImage(file = img , master = root)\n",
    "bgs_label = tk.Label(root , image = bgs)\n",
    "bgs_label.place(height = 780, width = 650)\n",
    "\n",
    "frame=tk.Frame(root,bg=\"green\",bd=2.5)\n",
    "frame.place(relx=0.5,rely=0.75,relheight=0.1,relwidth=0.75,anchor=\"n\")\n",
    "\n",
    "frame1=tk.Frame(root,bg=\"red\",bd=2.5)\n",
    "frame1.place(relx=0.5,rely=0.1,relheight=0.1,relwidth=0.75,anchor=\"n\")\n",
    "\n",
    "entry=tk.Entry(frame1,font=(\"mhindra GD\",10))\n",
    "entry.place(relx=0.1,relheight=1,relwidth=0.8)\n",
    "\n",
    "button=tk.Button(frame,text=\"search or show\",font=40,bg=\"blue\", command=lambda:knw_weather(entry.get()))\n",
    "button.place(relx=0.06,relheight=1,relwidth=0.9)\n",
    "\n",
    "\n",
    "\n",
    "#lower frame\n",
    "lf=tk.Frame(root,bg=\"orange\",bd=10)\n",
    "lf.place(relx=0.5,rely=0.2,relwidth=0.75,relheight=0.55,anchor=\"n\")\n",
    "\n",
    "label=tk.Label(lf,font=('mhindra GD',20))\n",
    "label.place(relwidth=1,relheight=1)\n",
    "\n",
    "root.mainloop()"
   ]
  },
  {
   "cell_type": "code",
   "execution_count": null,
   "metadata": {},
   "outputs": [],
   "source": []
  }
 ],
 "metadata": {
  "kernelspec": {
   "display_name": "Python 3",
   "language": "python",
   "name": "python3"
  },
  "language_info": {
   "codemirror_mode": {
    "name": "ipython",
    "version": 3
   },
   "file_extension": ".py",
   "mimetype": "text/x-python",
   "name": "python",
   "nbconvert_exporter": "python",
   "pygments_lexer": "ipython3",
   "version": "3.8.3"
  }
 },
 "nbformat": 4,
 "nbformat_minor": 5
}
